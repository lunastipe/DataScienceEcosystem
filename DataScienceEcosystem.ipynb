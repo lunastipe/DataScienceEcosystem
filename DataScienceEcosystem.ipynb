{
  "metadata": {
    "kernelspec": {
      "name": "python",
      "display_name": "Python (Pyodide)",
      "language": "python"
    },
    "language_info": {
      "codemirror_mode": {
        "name": "python",
        "version": 3
      },
      "file_extension": ".py",
      "mimetype": "text/x-python",
      "name": "python",
      "nbconvert_exporter": "python",
      "pygments_lexer": "ipython3",
      "version": "3.8"
    }
  },
  "nbformat_minor": 5,
  "nbformat": 4,
  "cells": [
    {
      "id": "dda81bea-e37b-4592-a19b-05bc70315d9b",
      "cell_type": "markdown",
      "source": "# Data Science and Ecosystem",
      "metadata": {}
    },
    {
      "id": "32c21bbe-7422-45f4-bc7a-1a3ba1ea332a",
      "cell_type": "markdown",
      "source": "In this notebook, Data Science tools and ecosystem are summarized",
      "metadata": {}
    },
    {
      "id": "95e34d9c-b9fc-4a6b-8883-68712e4fc550",
      "cell_type": "markdown",
      "source": "*Objectives*\n- List popular languages used in data science\n- Data science tools\n- Headings and columns",
      "metadata": {}
    },
    {
      "id": "0ce23968-c8fd-4548-9da0-de3ba8b3941a",
      "cell_type": "markdown",
      "source": "Some of the popular languages that Data Scientists use are:\n1. Numpy\n2. pandas\n3. matplotlib\n4. Seaborn",
      "metadata": {}
    },
    {
      "id": "42e633fc-72bf-4529-9e92-aefcd648aee7",
      "cell_type": "markdown",
      "source": "|Data Science Tools|\n|-----------------|\n|Jupyter Notebooks|\n|Visual Studio Code|\n|Apache Zepellin|\n",
      "metadata": {}
    },
    {
      "id": "387b92a6-fa96-4288-b437-868e7b82ed47",
      "cell_type": "markdown",
      "source": "### Below are a few examples of evaluating arithmetic expressions in Python.",
      "metadata": {}
    },
    {
      "id": "57ec54c4-6e73-47d1-a848-25da30a1e1e5",
      "cell_type": "code",
      "source": "# This a simple arithmetic expression to mutiply then add integers.\n(3*4)+5",
      "metadata": {
        "trusted": true
      },
      "outputs": [
        {
          "execution_count": 1,
          "output_type": "execute_result",
          "data": {
            "text/plain": "17"
          },
          "metadata": {}
        }
      ],
      "execution_count": 1
    },
    {
      "id": "aca5f411-be31-45fa-a741-30162c64d211",
      "cell_type": "code",
      "source": "# This will convert 200 minutes to hours by diving by 60\n200/60",
      "metadata": {
        "trusted": true
      },
      "outputs": [
        {
          "execution_count": 2,
          "output_type": "execute_result",
          "data": {
            "text/plain": "3.3333333333333335"
          },
          "metadata": {}
        }
      ],
      "execution_count": 2
    },
    {
      "id": "dc793c96-2a76-436d-b872-dd096167996a",
      "cell_type": "markdown",
      "source": "## Author\nRoman Armando Luna Silva",
      "metadata": {}
    },
    {
      "id": "89aa7f93-21c7-4a3e-8618-b71fa5ec5def",
      "cell_type": "code",
      "source": "",
      "metadata": {
        "trusted": true
      },
      "outputs": [],
      "execution_count": null
    }
  ]
}